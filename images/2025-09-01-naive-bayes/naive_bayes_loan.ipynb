{
 "cells": [
  {
   "cell_type": "code",
   "execution_count": 1,
   "id": "335bf905",
   "metadata": {},
   "outputs": [
    {
     "data": {
      "text/html": [
       "<style>.container { width:50% !important; }</style>"
      ],
      "text/plain": [
       "<IPython.core.display.HTML object>"
      ]
     },
     "metadata": {},
     "output_type": "display_data"
    }
   ],
   "source": [
    "import pandas as pd\n",
    "import numpy as np\n",
    "\n",
    "from IPython.display import display, HTML\n",
    "display(HTML(\"<style>.container { width:50% !important; }</style>\"))"
   ]
  },
  {
   "cell_type": "code",
   "execution_count": 2,
   "id": "93bb8c0a",
   "metadata": {},
   "outputs": [],
   "source": [
    "data = pd.read_csv('../data/loan_data.csv') \n",
    "\n",
    "train_data = data.sample(frac=0.8)\n",
    "test_data = data.drop(train_data.index)"
   ]
  },
  {
   "cell_type": "code",
   "execution_count": 3,
   "id": "85dff00f",
   "metadata": {},
   "outputs": [],
   "source": [
    "discrete_features = ['person_home_ownership','person_gender','person_education','loan_intent','previous_loan_defaults_on_file','loan_status']\n",
    "continuous_features = ['person_age','person_income','person_emp_exp','loan_amnt','loan_int_rate','loan_percent_income','cb_person_cred_hist_length','credit_score']"
   ]
  },
  {
   "cell_type": "code",
   "execution_count": 4,
   "id": "42b7a231",
   "metadata": {},
   "outputs": [
    {
     "data": {
      "text/html": [
       "<div>\n",
       "<style scoped>\n",
       "    .dataframe tbody tr th:only-of-type {\n",
       "        vertical-align: middle;\n",
       "    }\n",
       "\n",
       "    .dataframe tbody tr th {\n",
       "        vertical-align: top;\n",
       "    }\n",
       "\n",
       "    .dataframe thead th {\n",
       "        text-align: right;\n",
       "    }\n",
       "</style>\n",
       "<table border=\"1\" class=\"dataframe\">\n",
       "  <thead>\n",
       "    <tr style=\"text-align: right;\">\n",
       "      <th></th>\n",
       "      <th>person_home_ownership</th>\n",
       "      <th>person_gender</th>\n",
       "      <th>person_education</th>\n",
       "      <th>loan_intent</th>\n",
       "      <th>previous_loan_defaults_on_file</th>\n",
       "      <th>loan_status</th>\n",
       "    </tr>\n",
       "  </thead>\n",
       "  <tbody>\n",
       "    <tr>\n",
       "      <th>16743</th>\n",
       "      <td>MORTGAGE</td>\n",
       "      <td>male</td>\n",
       "      <td>Master</td>\n",
       "      <td>EDUCATION</td>\n",
       "      <td>Yes</td>\n",
       "      <td>0</td>\n",
       "    </tr>\n",
       "    <tr>\n",
       "      <th>14879</th>\n",
       "      <td>OWN</td>\n",
       "      <td>male</td>\n",
       "      <td>Master</td>\n",
       "      <td>VENTURE</td>\n",
       "      <td>Yes</td>\n",
       "      <td>0</td>\n",
       "    </tr>\n",
       "    <tr>\n",
       "      <th>13061</th>\n",
       "      <td>OWN</td>\n",
       "      <td>male</td>\n",
       "      <td>Bachelor</td>\n",
       "      <td>EDUCATION</td>\n",
       "      <td>No</td>\n",
       "      <td>0</td>\n",
       "    </tr>\n",
       "    <tr>\n",
       "      <th>21226</th>\n",
       "      <td>RENT</td>\n",
       "      <td>female</td>\n",
       "      <td>Doctorate</td>\n",
       "      <td>MEDICAL</td>\n",
       "      <td>No</td>\n",
       "      <td>0</td>\n",
       "    </tr>\n",
       "    <tr>\n",
       "      <th>26807</th>\n",
       "      <td>OWN</td>\n",
       "      <td>male</td>\n",
       "      <td>Master</td>\n",
       "      <td>PERSONAL</td>\n",
       "      <td>Yes</td>\n",
       "      <td>0</td>\n",
       "    </tr>\n",
       "  </tbody>\n",
       "</table>\n",
       "</div>"
      ],
      "text/plain": [
       "      person_home_ownership person_gender person_education loan_intent  \\\n",
       "16743              MORTGAGE          male           Master   EDUCATION   \n",
       "14879                   OWN          male           Master     VENTURE   \n",
       "13061                   OWN          male         Bachelor   EDUCATION   \n",
       "21226                  RENT        female        Doctorate     MEDICAL   \n",
       "26807                   OWN          male           Master    PERSONAL   \n",
       "\n",
       "      previous_loan_defaults_on_file  loan_status  \n",
       "16743                            Yes            0  \n",
       "14879                            Yes            0  \n",
       "13061                             No            0  \n",
       "21226                             No            0  \n",
       "26807                            Yes            0  "
      ]
     },
     "execution_count": 4,
     "metadata": {},
     "output_type": "execute_result"
    }
   ],
   "source": [
    "train_data[discrete_features].head(5)"
   ]
  },
  {
   "cell_type": "code",
   "execution_count": 5,
   "id": "0640b927",
   "metadata": {},
   "outputs": [
    {
     "data": {
      "text/html": [
       "<div>\n",
       "<style scoped>\n",
       "    .dataframe tbody tr th:only-of-type {\n",
       "        vertical-align: middle;\n",
       "    }\n",
       "\n",
       "    .dataframe tbody tr th {\n",
       "        vertical-align: top;\n",
       "    }\n",
       "\n",
       "    .dataframe thead th {\n",
       "        text-align: right;\n",
       "    }\n",
       "</style>\n",
       "<table border=\"1\" class=\"dataframe\">\n",
       "  <thead>\n",
       "    <tr style=\"text-align: right;\">\n",
       "      <th></th>\n",
       "      <th>person_age</th>\n",
       "      <th>person_income</th>\n",
       "      <th>person_emp_exp</th>\n",
       "      <th>loan_amnt</th>\n",
       "      <th>loan_int_rate</th>\n",
       "      <th>loan_percent_income</th>\n",
       "      <th>cb_person_cred_hist_length</th>\n",
       "      <th>credit_score</th>\n",
       "    </tr>\n",
       "  </thead>\n",
       "  <tbody>\n",
       "    <tr>\n",
       "      <th>16743</th>\n",
       "      <td>26.0</td>\n",
       "      <td>91218.0</td>\n",
       "      <td>0</td>\n",
       "      <td>12000.0</td>\n",
       "      <td>6.92</td>\n",
       "      <td>0.13</td>\n",
       "      <td>4.0</td>\n",
       "      <td>685</td>\n",
       "    </tr>\n",
       "    <tr>\n",
       "      <th>14879</th>\n",
       "      <td>21.0</td>\n",
       "      <td>142630.0</td>\n",
       "      <td>2</td>\n",
       "      <td>14000.0</td>\n",
       "      <td>7.88</td>\n",
       "      <td>0.10</td>\n",
       "      <td>3.0</td>\n",
       "      <td>598</td>\n",
       "    </tr>\n",
       "    <tr>\n",
       "      <th>13061</th>\n",
       "      <td>21.0</td>\n",
       "      <td>106128.0</td>\n",
       "      <td>0</td>\n",
       "      <td>12000.0</td>\n",
       "      <td>11.01</td>\n",
       "      <td>0.11</td>\n",
       "      <td>2.0</td>\n",
       "      <td>614</td>\n",
       "    </tr>\n",
       "    <tr>\n",
       "      <th>21226</th>\n",
       "      <td>33.0</td>\n",
       "      <td>137660.0</td>\n",
       "      <td>9</td>\n",
       "      <td>5000.0</td>\n",
       "      <td>11.83</td>\n",
       "      <td>0.04</td>\n",
       "      <td>9.0</td>\n",
       "      <td>706</td>\n",
       "    </tr>\n",
       "    <tr>\n",
       "      <th>26807</th>\n",
       "      <td>28.0</td>\n",
       "      <td>33919.0</td>\n",
       "      <td>7</td>\n",
       "      <td>2000.0</td>\n",
       "      <td>11.12</td>\n",
       "      <td>0.06</td>\n",
       "      <td>8.0</td>\n",
       "      <td>562</td>\n",
       "    </tr>\n",
       "  </tbody>\n",
       "</table>\n",
       "</div>"
      ],
      "text/plain": [
       "       person_age  person_income  person_emp_exp  loan_amnt  loan_int_rate  \\\n",
       "16743        26.0        91218.0               0    12000.0           6.92   \n",
       "14879        21.0       142630.0               2    14000.0           7.88   \n",
       "13061        21.0       106128.0               0    12000.0          11.01   \n",
       "21226        33.0       137660.0               9     5000.0          11.83   \n",
       "26807        28.0        33919.0               7     2000.0          11.12   \n",
       "\n",
       "       loan_percent_income  cb_person_cred_hist_length  credit_score  \n",
       "16743                 0.13                         4.0           685  \n",
       "14879                 0.10                         3.0           598  \n",
       "13061                 0.11                         2.0           614  \n",
       "21226                 0.04                         9.0           706  \n",
       "26807                 0.06                         8.0           562  "
      ]
     },
     "execution_count": 5,
     "metadata": {},
     "output_type": "execute_result"
    }
   ],
   "source": [
    "train_data[continuous_features].head(5)"
   ]
  },
  {
   "cell_type": "code",
   "execution_count": 6,
   "id": "7247d94d",
   "metadata": {},
   "outputs": [],
   "source": [
    "approved_df = train_data[train_data['loan_status'] == 1]\n",
    "rejected_df = train_data[train_data['loan_status'] == 0]\n",
    "\n",
    "approved_discrete_features = {feature: approved_df[feature].value_counts(normalize=True) for feature in discrete_features}\n",
    "rejected_discrete_features = {feature: rejected_df[feature].value_counts(normalize=True) for feature in discrete_features}\n",
    "\n",
    "approved_continuous_features = {feature:(approved_df[feature].mean(), approved_df[feature].std()) for feature in continuous_features}\n",
    "rejected_continuous_features = {feature:(rejected_df[feature].mean(), rejected_df[feature].std()) for feature in continuous_features}"
   ]
  },
  {
   "cell_type": "code",
   "execution_count": 7,
   "id": "0b82b0bf",
   "metadata": {},
   "outputs": [],
   "source": [
    "normal_distribution = lambda x, mean, std: 1/std/np.sqrt(2*np.pi)*np.exp(-0.5*(x-mean)**2/std**2)"
   ]
  },
  {
   "cell_type": "code",
   "execution_count": 8,
   "id": "27571cc0",
   "metadata": {},
   "outputs": [],
   "source": [
    "for idx, sample_data in test_data.iterrows():\n",
    "    likelihood_approved = 0\n",
    "    likelihood_rejected = 0\n",
    "    for feature in discrete_features:\n",
    "        if feature != 'loan_status':\n",
    "            try:\n",
    "                likelihood_approved += np.log2(approved_discrete_features[feature][sample_data[feature]])\n",
    "            except:\n",
    "                likelihood_approved += -300\n",
    "\n",
    "            try:\n",
    "                likelihood_rejected += np.log2(rejected_discrete_features[feature][sample_data[feature]])\n",
    "            except:\n",
    "                likelihood_rejected += -300\n",
    "\n",
    "    for feature in continuous_features:\n",
    "        (mean, stdev) = approved_continuous_features[feature]\n",
    "        likelihood_approved += np.log2(normal_distribution(sample_data[feature], mean, stdev))\n",
    "\n",
    "        (mean, stdev) = rejected_continuous_features[feature]\n",
    "        likelihood_rejected += np.log2(normal_distribution(sample_data[feature], mean, stdev))\n",
    "\n",
    "    likelihood_approved += np.log2(len(approved_df) / len(train_data))\n",
    "    likelihood_rejected += np.log2(len(rejected_df) / len(train_data))\n",
    "\n",
    "    if likelihood_approved > likelihood_rejected:\n",
    "        test_data.loc[idx, 'predicted_loan_status'] = 1\n",
    "    else:\n",
    "        test_data.loc[idx, 'predicted_loan_status'] = 0"
   ]
  },
  {
   "cell_type": "code",
   "execution_count": 9,
   "id": "befc20b5",
   "metadata": {},
   "outputs": [],
   "source": [
    "### out of the positive predictions, how many were correct\n",
    "precision = (test_data.loan_status == test_data.predicted_loan_status).sum()/len(test_data)\n",
    "\n",
    "### percentage of positives that are correctly predicted\n",
    "sensitivity = (test_data[(test_data.loan_status == 1) & (test_data.predicted_loan_status == 1)].shape[0] / test_data[test_data.loan_status == 1].shape[0])\n",
    "\n",
    "### percentage of negatives that are correctly predicted\n",
    "specificity = (test_data[(test_data.loan_status == 0) & (test_data.predicted_loan_status == 0)].shape[0] / test_data[test_data.loan_status == 0].shape[0])"
   ]
  },
  {
   "cell_type": "code",
   "execution_count": 10,
   "id": "ad9951e2",
   "metadata": {},
   "outputs": [
    {
     "name": "stdout",
     "output_type": "stream",
     "text": [
      "Precision: 0.8716\n",
      "Sensitivity: 0.7776\n",
      "Specificity: 0.8989\n"
     ]
    }
   ],
   "source": [
    "print(f\"Precision: {precision:.4f}\")\n",
    "print(f\"Sensitivity: {sensitivity:.4f}\")\n",
    "print(f\"Specificity: {specificity:.4f}\")"
   ]
  }
 ],
 "metadata": {
  "kernelspec": {
   "display_name": "Python 3 (ipykernel)",
   "language": "python",
   "name": "python3"
  },
  "language_info": {
   "codemirror_mode": {
    "name": "ipython",
    "version": 3
   },
   "file_extension": ".py",
   "mimetype": "text/x-python",
   "name": "python",
   "nbconvert_exporter": "python",
   "pygments_lexer": "ipython3",
   "version": "3.11.0"
  }
 },
 "nbformat": 4,
 "nbformat_minor": 5
}
